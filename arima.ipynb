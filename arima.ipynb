{
 "cells": [
  {
   "cell_type": "markdown",
   "metadata": {},
   "source": [
    "#### Demand Forecasting for Inventory Management Using ARIMA\n",
    "\n",
    "To accurately forecast the future demand for products in a warehouse using the ARIMA model, enabling optimal inventory management and reducing costs associated with overstocking and stockouts."
   ]
  },
  {
   "cell_type": "code",
   "execution_count": null,
   "metadata": {},
   "outputs": [],
   "source": [
    "# spare cell to install packages\n",
    "%pip install statsmodels"
   ]
  },
  {
   "cell_type": "code",
   "execution_count": null,
   "metadata": {},
   "outputs": [],
   "source": [
    "# import necessary libraries\n",
    "\n",
    "import pandas as pd\n",
    "import numpy as np\n",
    "\n",
    "from statsmodels.tsa.stattools import adfuller\n",
    "from statsmodels.graphics.tsaplots import plot_acf, plot_pacf\n",
    "from statsmodels.tsa.arima.model import ARIMA\n",
    "from sklearn.metrics import mean_absolute_error, mean_squared_error\n",
    "\n",
    "import matplotlib.pyplot as plt"
   ]
  },
  {
   "cell_type": "code",
   "execution_count": null,
   "metadata": {},
   "outputs": [],
   "source": [
    "# sample data - synthetic time series dataset representing the monthly sales of a product over a few years\n",
    "\n",
    "np.random.seed(42)\n",
    "\n",
    "date_range = pd.date_range(start='2018-01-01', end='2023-12-31', freq='M')\n",
    "sales = np.random.poisson(lam=200, size=len(date_range)) + np.arange(len(date_range)) * 5\n",
    "\n",
    "# create a DataFrame\n",
    "data = pd.DataFrame({'Date': date_range, 'Sales': sales})\n",
    "data.set_index('Date', inplace=True)\n",
    "\n",
    "data.head()"
   ]
  },
  {
   "cell_type": "code",
   "execution_count": null,
   "metadata": {},
   "outputs": [],
   "source": [
    "# plot the time series\n",
    "\n",
    "plt.figure(figsize=(10, 6))\n",
    "plt.plot(data, label='Sales')\n",
    "plt.title('Monthly Sales Data')\n",
    "plt.xlabel('Date')\n",
    "plt.ylabel('Sales')\n",
    "plt.legend()\n",
    "\n",
    "plt.show()"
   ]
  },
  {
   "cell_type": "code",
   "execution_count": null,
   "metadata": {},
   "outputs": [],
   "source": [
    "# check for stationarity using the Augmented Dickey-Fuller (ADF) test\n",
    "\n",
    "'''\n",
    "The Augmented Dickey-Fuller test is a statistical test used to check whether a time series is stationary. \n",
    "Stationarity means that the statistical properties of the series, such as mean and variance, do not change over time. \n",
    "Most time series models, including ARIMA, assume that the series is stationary.\n",
    "'''\n",
    "result = adfuller(data['Sales'])\n",
    "\n",
    "'''\n",
    "ADF Statistic: A more negative value indicates stronger evidence against the presence of a unit root \n",
    "(i.e., stronger evidence that the series is stationary).\n",
    "\n",
    "p-value: A lower p-value (< 0.05) indicates that you can reject the null hypothesis, suggesting \n",
    "that the series is stationary.\n",
    "'''\n",
    "print('ADF Statistic:', result[0])\n",
    "print('p-value:', result[1])\n",
    "\n",
    "# if not stationary, difference it\n",
    "# differencing is a method where you subtract the previous observation from the current observation\n",
    "data_diff = data.diff().dropna()\n"
   ]
  },
  {
   "cell_type": "code",
   "execution_count": null,
   "metadata": {},
   "outputs": [],
   "source": [
    "# plot ACF and PACF\n",
    "\n",
    "fig, (ax1, ax2) = plt.subplots(1, 2, figsize=(16, 6))\n",
    "plot_acf(data_diff, ax=ax1, lags=20)\n",
    "plot_pacf(data_diff, ax=ax2, lags=20)\n",
    "\n",
    "plt.show()\n"
   ]
  },
  {
   "cell_type": "code",
   "execution_count": null,
   "metadata": {},
   "outputs": [],
   "source": [
    "# arima model\n",
    "\n",
    "model = ARIMA(data, order=(1, 1, 1))  # adjust p, d, q based on ACF and PACF\n",
    "model_fit = model.fit()\n",
    "\n",
    "print(model_fit.summary())"
   ]
  },
  {
   "cell_type": "code",
   "execution_count": null,
   "metadata": {},
   "outputs": [],
   "source": [
    "# forecasts\n",
    "\n",
    "forecast_steps = 12\n",
    "forecast = model_fit.get_forecast(steps=forecast_steps)\n",
    "forecast_index = pd.date_range(start=data.index[-1], periods=forecast_steps + 1, freq='M')[1:]\n",
    "forecast_series = pd.Series(forecast.predicted_mean, index=forecast_index)\n",
    "conf_int = forecast.conf_int()"
   ]
  },
  {
   "cell_type": "code",
   "execution_count": null,
   "metadata": {},
   "outputs": [],
   "source": [
    "plt.figure(figsize=(10, 6))\n",
    "plt.plot(data, label='Observed')\n",
    "plt.plot(forecast_series, label='Forecast', color='red')\n",
    "plt.fill_between(forecast_index, conf_int.iloc[:, 0], conf_int.iloc[:, 1], color='pink', alpha=0.3)\n",
    "plt.title('Sales Forecast')\n",
    "plt.xlabel('Date')\n",
    "plt.ylabel('Sales')\n",
    "plt.legend()\n",
    "\n",
    "plt.show()"
   ]
  },
  {
   "cell_type": "code",
   "execution_count": null,
   "metadata": {},
   "outputs": [],
   "source": [
    "# split into train and test sets\n",
    "\n",
    "train_size = int(len(data) * 0.8)\n",
    "train, test = data[:train_size], data[train_size:]"
   ]
  },
  {
   "cell_type": "code",
   "execution_count": null,
   "metadata": {},
   "outputs": [],
   "source": [
    "# training arima model\n",
    "\n",
    "model = ARIMA(train, order=(1, 1, 1))\n",
    "model_fit = model.fit()\n"
   ]
  },
  {
   "cell_type": "code",
   "execution_count": null,
   "metadata": {},
   "outputs": [],
   "source": [
    "# make predictions on test set\n",
    "\n",
    "forecast = model_fit.forecast(steps=len(test))"
   ]
  },
  {
   "cell_type": "code",
   "execution_count": null,
   "metadata": {},
   "outputs": [],
   "source": [
    "# evaluate the model\n",
    "\n",
    "mae = mean_absolute_error(test, forecast)\n",
    "mse = mean_squared_error(test, forecast)\n",
    "\n",
    "print('MAE:', mae)\n",
    "print('MSE:', mse)"
   ]
  },
  {
   "cell_type": "markdown",
   "metadata": {},
   "source": [
    "Other random visualisations"
   ]
  },
  {
   "cell_type": "code",
   "execution_count": null,
   "metadata": {},
   "outputs": [],
   "source": [
    "# differenced time series plot - helps to check if the differencing to achieve stationarity was effective\n",
    "\n",
    "data_diff.plot(figsize=(10, 6))\n",
    "plt.title('Differenced Time Series Plot')\n",
    "\n",
    "plt.show()"
   ]
  },
  {
   "cell_type": "code",
   "execution_count": null,
   "metadata": {},
   "outputs": [],
   "source": [
    "# residual plot - help to diagnose if the model residuals (errors) are random and normally distributed (if not, model can be improved)\n",
    "\n",
    "residuals = model_fit.resid\n",
    "residuals.plot(figsize=(10, 6))\n",
    "plt.title('Residuals Plot')\n",
    "\n",
    "plt.show()"
   ]
  },
  {
   "cell_type": "code",
   "execution_count": null,
   "metadata": {},
   "outputs": [],
   "source": [
    "# forecast vs actual plot\n",
    "\n",
    "plt.figure(figsize=(10, 6))\n",
    "plt.plot(test, label='Actual')\n",
    "plt.plot(forecast, label='Forecast', color='red')\n",
    "plt.legend()\n",
    "plt.title('Forecast vs. Actual')\n",
    "\n",
    "plt.show()\n",
    "\n"
   ]
  },
  {
   "cell_type": "markdown",
   "metadata": {},
   "source": [
    "Based on the above forecast vs actual plot, we can see that the horizontal line forecast is indicative of the ARIMA model not capturing any patterns from the data, such as trends or seasonality. As such, to improve our model, we can use SARIMA (Seasonal ARIMA) to account for seasonality."
   ]
  },
  {
   "cell_type": "code",
   "execution_count": null,
   "metadata": {},
   "outputs": [],
   "source": [
    "# import sarimax\n",
    "from statsmodels.tsa.statespace.sarimax import SARIMAX\n",
    "\n",
    "# seasonal parameters (P, D, Q, S)\n",
    "seasonal_order = (1, 1, 1, 12)\n",
    "\n",
    "model = SARIMAX(train, order=(1, 1, 1), seasonal_order=seasonal_order)\n",
    "model_fit = model.fit(disp=False)\n"
   ]
  },
  {
   "cell_type": "code",
   "execution_count": null,
   "metadata": {},
   "outputs": [],
   "source": [
    "# plot forecast vs actual graph\n",
    "\n",
    "forecast = model_fit.forecast(steps=len(test))\n",
    "plt.figure(figsize=(10, 6))\n",
    "plt.plot(test, label='Actual')\n",
    "plt.plot(forecast, label='Forecast', color='red')\n",
    "plt.legend()\n",
    "plt.title('SARIMA Forecast vs. Actual')\n",
    "\n",
    "plt.show()\n"
   ]
  },
  {
   "cell_type": "markdown",
   "metadata": {},
   "source": [
    "further improvements of the model"
   ]
  },
  {
   "cell_type": "code",
   "execution_count": null,
   "metadata": {},
   "outputs": [],
   "source": [
    "# import necessary libraries\n",
    "\n",
    "import itertools\n",
    "import warnings\n",
    "warnings.filterwarnings(\"ignore\")\n",
    "from statsmodels.tsa.statespace.sarimax import SARIMAX"
   ]
  },
  {
   "cell_type": "code",
   "execution_count": null,
   "metadata": {},
   "outputs": [],
   "source": [
    "# parameter tuning - grid search to find the best parameters for ARIMA/SARIMA model\n",
    "\n",
    "# define the p, d, and q parameters to take any value between 0 and 2\n",
    "p = d = q = range(0, 3)\n",
    "pdq = list(itertools.product(p, d, q))\n",
    "\n",
    "# seasonal parameters\n",
    "seasonal_pdq = [(x[0], x[1], x[2], 12) for x in list(itertools.product(p, d, q))]\n",
    "\n",
    "best_aic = float(\"inf\")\n",
    "best_params = None\n",
    "\n",
    "# for each pararmeter in the list\n",
    "for param in pdq:\n",
    "    for param_seasonal in seasonal_pdq:\n",
    "\n",
    "        try:\n",
    "            tmp_model = SARIMAX(train, order=param, seasonal_order=param_seasonal)\n",
    "            tmp_model_fit = tmp_model.fit(disp=False)\n",
    "            tmp_aic = tmp_model_fit.aic\n",
    "            if tmp_aic < best_aic:\n",
    "                best_aic = tmp_aic\n",
    "                best_params = (param, param_seasonal)\n",
    "                    \n",
    "        except:\n",
    "            continue\n",
    "\n",
    "# print out best sarima/arima parameters\n",
    "print(f'Best SARIMA parameters: {best_params}, AIC: {best_aic}')\n"
   ]
  },
  {
   "cell_type": "code",
   "execution_count": null,
   "metadata": {},
   "outputs": [],
   "source": [
    "# evaluate performance of model\n",
    "\n",
    "best_model = SARIMAX(train, order=best_params[0], seasonal_order=best_params[1])\n",
    "best_model_fit = best_model.fit(disp=False)\n",
    "\n",
    "mae = mean_absolute_error(test, forecast)\n",
    "mse = mean_squared_error(test, forecast)\n",
    "print('MAE:', mae)\n",
    "print('MSE:', mse)"
   ]
  },
  {
   "cell_type": "code",
   "execution_count": null,
   "metadata": {},
   "outputs": [],
   "source": [
    "# plot forecast graph\n",
    "\n",
    "forecast = best_model_fit.forecast(steps=len(test))\n",
    "plt.figure(figsize=(10, 6))\n",
    "plt.plot(test, label='Actual')\n",
    "plt.plot(forecast, label='Forecast', color='red')\n",
    "plt.legend()\n",
    "plt.title('Best SARIMA Forecast vs. Actual')\n",
    "plt.show()"
   ]
  }
 ],
 "metadata": {
  "kernelspec": {
   "display_name": "Python 3",
   "language": "python",
   "name": "python3"
  },
  "language_info": {
   "codemirror_mode": {
    "name": "ipython",
    "version": 3
   },
   "file_extension": ".py",
   "mimetype": "text/x-python",
   "name": "python",
   "nbconvert_exporter": "python",
   "pygments_lexer": "ipython3",
   "version": "3.12.3"
  }
 },
 "nbformat": 4,
 "nbformat_minor": 2
}
